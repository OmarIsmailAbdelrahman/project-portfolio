{
 "cells": [
  {
   "cell_type": "code",
   "execution_count": 5,
   "id": "78d8d1b3-915f-46ca-9521-44bf394e9d8e",
   "metadata": {
    "tags": []
   },
   "outputs": [],
   "source": [
    "# Variables needed to be set\n",
    "export PROJECT=\"omar-ismail-test-project\"\n",
    "export BUCKET=\"new_remove\"\n",
    "export REGION=\"us-central1\"\n",
    "export TAG=`date +%Y%m%d-%H%M%S`\n",
    "export SDK_CONTAINER_IMAGE=\"gcr.io/omar-ismail-test-project/dataflow-flex-template:test2\"\n",
    "export TEMPLATE_FILE=gs://$BUCKET/dataflow_template_configuration-$TAG.json"
   ]
  },
  {
   "cell_type": "code",
   "execution_count": 8,
   "id": "40c7ed7a-4267-446d-9479-cdf9c868d134",
   "metadata": {
    "tags": []
   },
   "outputs": [
    {
     "name": "stdout",
     "output_type": "stream",
     "text": [
      "\u001b[1;31mERROR:\u001b[0m (gcloud.dataflow.flex-template.build) argument --image: expected one argument\n",
      "Usage: gcloud dataflow flex-template build TEMPLATE_FILE_GCS_PATH --sdk-language=SDK_LANGUAGE (--image=IMAGE | --env=[ENV,...] --flex-template-base-image=FLEX_TEMPLATE_BASE_IMAGE --image-gcr-path=IMAGE_GCR_PATH (--go-binary-path=GO_BINARY_PATH | --jar=[JAR,...] | --py-path=[PY_PATH,...]) | [--yaml-pipeline-path=YAML_PIPELINE_PATH : --yaml-image=YAML_IMAGE]) [optional flags]\n",
      "  optional flags may be  --additional-experiments | --additional-user-labels |\n",
      "                         --cloud-build-service-account | --dataflow-kms-key |\n",
      "                         --disable-public-ips | --enable-streaming-engine |\n",
      "                         --env | --flex-template-base-image | --gcs-log-dir |\n",
      "                         --go-binary-path | --help | --image |\n",
      "                         --image-gcr-path | --image-repository-cert-path |\n",
      "                         --image-repository-password-secret-id |\n",
      "                         --image-repository-username-secret-id | --jar |\n",
      "                         --max-workers | --metadata-file | --network |\n",
      "                         --num-workers | --print-only | --py-path |\n",
      "                         --service-account-email | --staging-location |\n",
      "                         --subnetwork | --temp-location |\n",
      "                         --worker-machine-type | --worker-region |\n",
      "                         --worker-zone | --yaml-image | --yaml-pipeline-path\n",
      "\n",
      "For detailed information on this command and its flags, run:\n",
      "  gcloud dataflow flex-template build --help\n"
     ]
    }
   ],
   "source": [
    "# build and push to image repo\n",
    "gcloud builds submit . --tag $SDK_CONTAINER_IMAGE --project $PROJECT\n",
    "# build flex-template file in bucket\n",
    "gcloud dataflow flex-template build $TEMPLATE_FILE      --image $SDK_CONTAINER_IMAGE     --sdk-language \"PYTHON\"     --metadata-file=metadata.txt     --project $PROJECT\n",
    "# run the flex-template\n",
    "gcloud dataflow flex-template run \"flex-$(date +%Y%m%d-%H%M%S)\"   --template-file-gcs-location=\"$TEMPLATE_FILE\"   --region=\"$REGION\"   --staging-location=\"gs://$BUCKET/staging\"   --parameters=sdk_container_image=$SDK_CONTAINER_IMAGE,project=omar-ismail-test-project,secret_name=sftp_default_key,rclone_remote=myvm,remote_dir=customer_test_data,host=146.148.62.199,user=omar_ismail,port=22,bucket_name=new_remove   --project=\"$PROJECT\"\n",
    "# to test run\n",
    "docker run --rm -it --entrypoint=/bin/bash $SDK_CONTAINER_IMAGE"
   ]
  },
  {
   "cell_type": "code",
   "execution_count": 7,
   "id": "9aca1e92-c5e1-42f2-af35-8e00718d5418",
   "metadata": {
    "tags": []
   },
   "outputs": [
    {
     "name": "stdout",
     "output_type": "stream",
     "text": [
      "\n"
     ]
    }
   ],
   "source": [
    "!echo $SDK_CONTAINER_IMAGE"
   ]
  },
  {
   "cell_type": "code",
   "execution_count": null,
   "id": "e1eb13fa-5546-465d-b884-81d6c5e3893e",
   "metadata": {},
   "outputs": [],
   "source": []
  }
 ],
 "metadata": {
  "environment": {
   "kernel": "conda-base-py",
   "name": "workbench-notebooks.m129",
   "type": "gcloud",
   "uri": "us-docker.pkg.dev/deeplearning-platform-release/gcr.io/workbench-notebooks:m129"
  },
  "kernelspec": {
   "display_name": "Python 3 (ipykernel) (Local)",
   "language": "python",
   "name": "conda-base-py"
  },
  "language_info": {
   "codemirror_mode": {
    "name": "ipython",
    "version": 3
   },
   "file_extension": ".py",
   "mimetype": "text/x-python",
   "name": "python",
   "nbconvert_exporter": "python",
   "pygments_lexer": "ipython3",
   "version": "3.10.16"
  }
 },
 "nbformat": 4,
 "nbformat_minor": 5
}
